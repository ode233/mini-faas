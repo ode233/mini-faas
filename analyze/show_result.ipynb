{
 "cells": [
  {
   "cell_type": "code",
   "execution_count": 1,
   "metadata": {},
   "outputs": [
    {
     "data": {
      "application/javascript": [
       "IPython.OutputArea.prototype._should_scroll = function(lines) {\n",
       "    return false;\n",
       "}\n"
      ],
      "text/plain": [
       "<IPython.core.display.Javascript object>"
      ]
     },
     "metadata": {},
     "output_type": "display_data"
    }
   ],
   "source": [
    "%%javascript\n",
    "IPython.OutputArea.prototype._should_scroll = function(lines) {\n",
    "    return false;\n",
    "}"
   ]
  },
  {
   "cell_type": "code",
   "execution_count": 3,
   "metadata": {},
   "outputs": [
    {
     "data": {
      "text/html": [
       "<div style=\"display: inline-block; width: 820px; vertical-align: top; text-align: center;\"><h4 style=\"font-size: 12px\">0</h4><h4 style=\"font-size: 9px; padding-left: 10px; padding-right: 10px; width: 90%; word-wrap: break-word; white-space: normal;\">1.6-simple-commit-8-5-23.50.log\\request_num.jpg</h4><img src=\"1.6-simple-commit-8-5-23.50.log\\request_num.jpg\" style=\"margin: 1px; width: 800px; border: 2px solid #ddd;\"/></div><div style=\"display: inline-block; width: 820px; vertical-align: top; text-align: center;\"><h4 style=\"font-size: 12px\">1</h4><h4 style=\"font-size: 9px; padding-left: 10px; padding-right: 10px; width: 90%; word-wrap: break-word; white-space: normal;\">1.6-simple-commit-8-5-23.50.log\\function_request_round.jpg</h4><img src=\"1.6-simple-commit-8-5-23.50.log\\function_request_round.jpg\" style=\"margin: 1px; width: 800px; border: 2px solid #ddd;\"/></div><div style=\"display: inline-block; width: 820px; vertical-align: top; text-align: center;\"><h4 style=\"font-size: 12px\">2</h4><h4 style=\"font-size: 9px; padding-left: 10px; padding-right: 10px; width: 90%; word-wrap: break-word; white-space: normal;\">1.6-simple-commit-8-5-23.50.log\\function_request_frequency.jpg</h4><img src=\"1.6-simple-commit-8-5-23.50.log\\function_request_frequency.jpg\" style=\"margin: 1px; width: 800px; border: 2px solid #ddd;\"/></div><div style=\"display: inline-block; width: 820px; vertical-align: top; text-align: center;\"><h4 style=\"font-size: 12px\">3</h4><h4 style=\"font-size: 9px; padding-left: 10px; padding-right: 10px; width: 90%; word-wrap: break-word; white-space: normal;\">1.6-simple-commit-8-5-23.50.log\\function_request_interval.jpg</h4><img src=\"1.6-simple-commit-8-5-23.50.log\\function_request_interval.jpg\" style=\"margin: 1px; width: 800px; border: 2px solid #ddd;\"/></div><div style=\"display: inline-block; width: 820px; vertical-align: top; text-align: center;\"><h4 style=\"font-size: 12px\">4</h4><h4 style=\"font-size: 9px; padding-left: 10px; padding-right: 10px; width: 90%; word-wrap: break-word; white-space: normal;\">1.6-simple-commit-8-5-23.50.log\\schedule_acquire_container_latency.jpg</h4><img src=\"1.6-simple-commit-8-5-23.50.log\\schedule_acquire_container_latency.jpg\" style=\"margin: 1px; width: 800px; border: 2px solid #ddd;\"/></div><div style=\"display: inline-block; width: 820px; vertical-align: top; text-align: center;\"><h4 style=\"font-size: 12px\">5</h4><h4 style=\"font-size: 9px; padding-left: 10px; padding-right: 10px; width: 90%; word-wrap: break-word; white-space: normal;\">1.6-simple-commit-8-5-23.50.log\\function_execution_duration.jpg</h4><img src=\"1.6-simple-commit-8-5-23.50.log\\function_execution_duration.jpg\" style=\"margin: 1px; width: 800px; border: 2px solid #ddd;\"/></div><div style=\"display: inline-block; width: 820px; vertical-align: top; text-align: center;\"><h4 style=\"font-size: 12px\">6</h4><h4 style=\"font-size: 9px; padding-left: 10px; padding-right: 10px; width: 90%; word-wrap: break-word; white-space: normal;\">1.6-simple-commit-8-5-23.50.log\\response_time.jpg</h4><img src=\"1.6-simple-commit-8-5-23.50.log\\response_time.jpg\" style=\"margin: 1px; width: 800px; border: 2px solid #ddd;\"/></div><div style=\"display: inline-block; width: 820px; vertical-align: top; text-align: center;\"><h4 style=\"font-size: 12px\">7</h4><h4 style=\"font-size: 9px; padding-left: 10px; padding-right: 10px; width: 90%; word-wrap: break-word; white-space: normal;\">1.6-simple-commit-8-5-23.50.log\\require_memory.jpg</h4><img src=\"1.6-simple-commit-8-5-23.50.log\\require_memory.jpg\" style=\"margin: 1px; width: 800px; border: 2px solid #ddd;\"/></div><div style=\"display: inline-block; width: 820px; vertical-align: top; text-align: center;\"><h4 style=\"font-size: 12px\">8</h4><h4 style=\"font-size: 9px; padding-left: 10px; padding-right: 10px; width: 90%; word-wrap: break-word; white-space: normal;\">1.6-simple-commit-8-5-23.50.log\\max_memory_usage.jpg</h4><img src=\"1.6-simple-commit-8-5-23.50.log\\max_memory_usage.jpg\" style=\"margin: 1px; width: 800px; border: 2px solid #ddd;\"/></div><div style=\"display: inline-block; width: 820px; vertical-align: top; text-align: center;\"><h4 style=\"font-size: 12px\">9</h4><h4 style=\"font-size: 9px; padding-left: 10px; padding-right: 10px; width: 90%; word-wrap: break-word; white-space: normal;\">1.6-simple-commit-8-5-23.50.log\\actual_require_memory.jpg</h4><img src=\"1.6-simple-commit-8-5-23.50.log\\actual_require_memory.jpg\" style=\"margin: 1px; width: 800px; border: 2px solid #ddd;\"/></div>"
      ],
      "text/plain": [
       "<IPython.core.display.HTML object>"
      ]
     },
     "metadata": {},
     "output_type": "display_data"
    }
   ],
   "source": [
    "from IPython.display import Image \n",
    "import ipyplot\n",
    "\n",
    "log_name = \"1.6-simple-commit-8-5-23.50.log\"\n",
    "pic_name_list = [\"request_num.jpg\", \"function_request_round.jpg\", \"function_request_frequency.jpg\", \"function_request_interval.jpg\",\n",
    "                 \"schedule_acquire_container_latency.jpg\", \n",
    "                 \"function_execution_duration.jpg\", \"response_time.jpg\",\n",
    "                 \"require_memory.jpg\", \"max_memory_usage.jpg\",\"actual_require_memory.jpg\"]\n",
    "pic_path_list = []\n",
    "for i in pic_name_list:\n",
    "    pic_path_list.append(f\"{log_name}\\\\{i}\")\n",
    "\n",
    "ipyplot.plot_images(pic_path_list, max_images=20, img_width=800)"
   ]
  },
  {
   "cell_type": "code",
   "execution_count": null,
   "metadata": {},
   "outputs": [],
   "source": []
  }
 ],
 "metadata": {
  "kernelspec": {
   "display_name": "Python 3",
   "language": "python",
   "name": "python3"
  },
  "language_info": {
   "codemirror_mode": {
    "name": "ipython",
    "version": 3
   },
   "file_extension": ".py",
   "mimetype": "text/x-python",
   "name": "python",
   "nbconvert_exporter": "python",
   "pygments_lexer": "ipython3",
   "version": "3.7.3"
  }
 },
 "nbformat": 4,
 "nbformat_minor": 2
}
